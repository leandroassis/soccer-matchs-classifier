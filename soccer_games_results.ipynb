{
 "cells": [
  {
   "cell_type": "code",
   "execution_count": 2,
   "metadata": {},
   "outputs": [],
   "source": [
    "import pandas as pd\n",
    "import numpy as np"
   ]
  },
  {
   "cell_type": "code",
   "execution_count": 8,
   "metadata": {},
   "outputs": [],
   "source": [
    "euro2021 = pd.read_excel('datasets/all-euro-data-2020-2021.xlsx')\n",
    "euro2022 = pd.read_excel('datasets/all-euro-data-2021-2022.xlsx')\n",
    "euro2023 = pd.read_excel('datasets/all-euro-data-2022-2023.xlsx')"
   ]
  },
  {
   "cell_type": "code",
   "execution_count": 11,
   "metadata": {},
   "outputs": [],
   "source": [
    "for column in euro2021.columns:\n",
    "    if column not in euro2022.columns or column not in euro2023.columns:\n",
    "        print(column)\n",
    "\n",
    "for column in euro2022.columns:\n",
    "    if column not in euro2021.columns or column not in euro2023.columns:\n",
    "        print(column)\n",
    "\n",
    "for column in euro2023.columns:\n",
    "    if column not in euro2021.columns or column not in euro2022.columns:\n",
    "        print(column)"
   ]
  },
  {
   "cell_type": "code",
   "execution_count": 17,
   "metadata": {},
   "outputs": [
    {
     "name": "stdout",
     "output_type": "stream",
     "text": [
      "(380, 106) (380, 106) (380, 106)\n",
      "(1140, 106)\n"
     ]
    }
   ],
   "source": [
    "euroDatas = pd.concat([euro2021, euro2022, euro2023], ignore_index=True)\n",
    "\n",
    "euroDatas.dropna()\n",
    "\n",
    "print(euro2021.shape, euro2022.shape, euro2023.shape)\n",
    "print(euroDatas.shape)"
   ]
  }
 ],
 "metadata": {
  "kernelspec": {
   "display_name": "Python 3",
   "language": "python",
   "name": "python3"
  },
  "language_info": {
   "codemirror_mode": {
    "name": "ipython",
    "version": 3
   },
   "file_extension": ".py",
   "mimetype": "text/x-python",
   "name": "python",
   "nbconvert_exporter": "python",
   "pygments_lexer": "ipython3",
   "version": "3.10.6"
  },
  "orig_nbformat": 4
 },
 "nbformat": 4,
 "nbformat_minor": 2
}
